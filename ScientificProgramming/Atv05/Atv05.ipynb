{
 "cells": [
  {
   "cell_type": "markdown",
   "metadata": {},
   "source": [
    "### Imports"
   ]
  },
  {
   "cell_type": "code",
   "execution_count": 1,
   "metadata": {},
   "outputs": [],
   "source": [
    "import pandas as pd"
   ]
  },
  {
   "cell_type": "markdown",
   "metadata": {},
   "source": [
    "### Setup"
   ]
  },
  {
   "cell_type": "code",
   "execution_count": 2,
   "metadata": {},
   "outputs": [],
   "source": [
    "# === Constantes\n",
    "FILE_NAME = 'historico.xlsx'"
   ]
  },
  {
   "cell_type": "markdown",
   "metadata": {},
   "source": [
    "### Caregando dados"
   ]
  },
  {
   "cell_type": "code",
   "execution_count": 3,
   "metadata": {},
   "outputs": [],
   "source": [
    "# === Dataframe\n",
    "df = pd.read_excel(FILE_NAME)\n",
    "\n",
    "# === Sub dataframes importantes\n",
    "# Alunos reprovados (Média < 5.0)\n",
    "df_reprovados = df[df['Média'] < 5.0]\n",
    "\n",
    "# === Valores importantes\n",
    "# Total de alunos no dataset\n",
    "total_alunos = len(df['Matrícula'].unique())"
   ]
  },
  {
   "cell_type": "markdown",
   "metadata": {},
   "source": [
    "---\n",
    "\n",
    "### Ex 1 \n",
    "\n",
    "Qual é, percentualmente, a taxa de alunos que reprovam em uma disciplina pela 1º vez? E a mesma disciplina pela 2ª vez? 3ª? 4ª? 5ª?..."
   ]
  },
  {
   "cell_type": "code",
   "execution_count": 131,
   "metadata": {},
   "outputs": [
    {
     "name": "stdout",
     "output_type": "stream",
     "text": [
      "827/1201 (69%) dos alunos ja reprovaram ao menos 1 vez(es) em uma mesma disciplina\n",
      "441/1201 (37%) dos alunos ja reprovaram ao menos 2 vez(es) em uma mesma disciplina\n",
      "239/1201 (20%) dos alunos ja reprovaram ao menos 3 vez(es) em uma mesma disciplina\n",
      "107/1201 ( 9%) dos alunos ja reprovaram ao menos 4 vez(es) em uma mesma disciplina\n",
      " 50/1201 ( 4%) dos alunos ja reprovaram ao menos 5 vez(es) em uma mesma disciplina\n"
     ]
    }
   ],
   "source": [
    "# Contabilizando o total de reprovacoes por disciplina, por aluno\n",
    "df_contagem_reprovacoes = df_reprovados.groupby(['Matrícula', 'Disciplina'])['Matrícula'].count()\n",
    "for i in range(1,6):\n",
    "    # Separa as ocorrencias de i ou mais reprovaçoes na mesma materia por um dado aluno\n",
    "    reprovados_i_vezes = df_contagem_reprovacoes[df_contagem_reprovacoes >= i]\n",
    "    # Extrai a matriculas dos alunos, eliminando duplicados\n",
    "    matriculas = reprovados_i_vezes.index.get_level_values('Matrícula').unique()\n",
    "    # Conta o numero de matriculas\n",
    "    numero_de_alunos = len(matriculas)\n",
    "    # Exibindo o resultado\n",
    "    print(f'{numero_de_alunos:>3}/{total_alunos} ({numero_de_alunos/total_alunos*100:>2.0f}%) dos alunos ja reprovaram ao menos {i} vez(es) em uma mesma disciplina')\n",
    "\n"
   ]
  },
  {
   "cell_type": "markdown",
   "metadata": {},
   "source": [
    "---\n",
    "\n",
    "### Ex 2\n",
    "\n",
    "Qual disciplina reprova mais? Qual reprova menos?"
   ]
  },
  {
   "cell_type": "code",
   "execution_count": 180,
   "metadata": {},
   "outputs": [
    {
     "name": "stdout",
     "output_type": "stream",
     "text": [
      "Disciplina | Indice de reprovação (%)\n",
      "  41082    |        9.12964        \n",
      "  56481    |        0.01522        \n"
     ]
    }
   ],
   "source": [
    "indice_reprovacao = df_reprovados['Disciplina'].value_counts(normalize=True, sort=True, ascending=False)*100\n",
    "maior, menor = indice_reprovacao.iloc[[0,-1]].items()\n",
    "\n",
    "print(\"Disciplina | Indice de reprovação (%)\")\n",
    "print(f\"{maior[0]:^10d} | {maior[1]:^22.4f}\")\n",
    "print(f\"{menor[0]:^10d} | {menor[1]:^22.4f}\")\n",
    "\n",
    "# indice_significante = indice_reprovacao[indice_reprovacao > 1]\n",
    "# indice_significante.loc['Outros'] = 100-indice_significante.sum()\n",
    "# indice_significante.plot(kind='pie', figsize=(10,10));"
   ]
  },
  {
   "cell_type": "markdown",
   "metadata": {},
   "source": [
    "O indice de reprovação calculado acima indica, do total reprovações, quantos % são relativos a determinada disciplina.\n",
    "\n",
    "- A disciplina responsável pelo maior número de reprovações (9.1296%) é a de código 41082.\n",
    "- A disciplina responsável pelo menor número de reprovações (0.0152%) é a de código 56481."
   ]
  },
  {
   "cell_type": "markdown",
   "metadata": {},
   "source": [
    "---\n",
    "\n",
    "### Ex 3\n",
    "\n",
    "Qual é a relação entre a nota obtida na reprovação e o sucesso/fracasso da próxima vez que o aluno faz a mesma disciplina?"
   ]
  },
  {
   "cell_type": "code",
   "execution_count": 112,
   "metadata": {},
   "outputs": [
    {
     "data": {
      "text/html": [
       "<div>\n",
       "<style scoped>\n",
       "    .dataframe tbody tr th:only-of-type {\n",
       "        vertical-align: middle;\n",
       "    }\n",
       "\n",
       "    .dataframe tbody tr th {\n",
       "        vertical-align: top;\n",
       "    }\n",
       "\n",
       "    .dataframe thead th {\n",
       "        text-align: right;\n",
       "    }\n",
       "</style>\n",
       "<table border=\"1\" class=\"dataframe\">\n",
       "  <thead>\n",
       "    <tr style=\"text-align: right;\">\n",
       "      <th></th>\n",
       "      <th>aliments</th>\n",
       "      <th>number</th>\n",
       "    </tr>\n",
       "  </thead>\n",
       "  <tbody>\n",
       "    <tr>\n",
       "      <th>0</th>\n",
       "      <td>potatoes</td>\n",
       "      <td>20</td>\n",
       "    </tr>\n",
       "    <tr>\n",
       "      <th>1</th>\n",
       "      <td>carots</td>\n",
       "      <td>39</td>\n",
       "    </tr>\n",
       "    <tr>\n",
       "      <th>2</th>\n",
       "      <td>tomatos</td>\n",
       "      <td>40</td>\n",
       "    </tr>\n",
       "    <tr>\n",
       "      <th>3</th>\n",
       "      <td>apples</td>\n",
       "      <td>2</td>\n",
       "    </tr>\n",
       "    <tr>\n",
       "      <th>4</th>\n",
       "      <td>bananas</td>\n",
       "      <td>2</td>\n",
       "    </tr>\n",
       "  </tbody>\n",
       "</table>\n",
       "</div>"
      ],
      "text/plain": [
       "   aliments  number\n",
       "0  potatoes      20\n",
       "1    carots      39\n",
       "2   tomatos      40\n",
       "3    apples       2\n",
       "4   bananas       2"
      ]
     },
     "execution_count": 112,
     "metadata": {},
     "output_type": "execute_result"
    }
   ],
   "source": [
    "df= pd.DataFrame([[\"potatoes\",20],[\"carots\",39], [\"tomatos\",40], [\"apples\",2], [\"bananas\",2]] , columns = [\"aliments\",\"number\"])  \n",
    "\n",
    "df_draw = df.copy()\n",
    "df_draw.loc[df_draw['number'] < 20, 'aliments'] = 'vegetables'\n",
    "\n",
    "df_draw = df_draw.groupby('aliments')['number'].sum().reset_index()\n",
    "\n",
    "df"
   ]
  }
 ],
 "metadata": {
  "kernelspec": {
   "display_name": "Python 3.9.12 64-bit ('adroit-py39': conda)",
   "language": "python",
   "name": "python3"
  },
  "language_info": {
   "codemirror_mode": {
    "name": "ipython",
    "version": 3
   },
   "file_extension": ".py",
   "mimetype": "text/x-python",
   "name": "python",
   "nbconvert_exporter": "python",
   "pygments_lexer": "ipython3",
   "version": "3.9.12"
  },
  "orig_nbformat": 4,
  "vscode": {
   "interpreter": {
    "hash": "4f91521e0e1e4cf546007f6232b1a128bab7c8702fb3b7283a4c1ac6bc4f613c"
   }
  }
 },
 "nbformat": 4,
 "nbformat_minor": 2
}

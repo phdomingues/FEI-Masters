{
 "cells": [
  {
   "cell_type": "markdown",
   "metadata": {},
   "source": [
    "### Imports"
   ]
  },
  {
   "cell_type": "code",
   "execution_count": 1,
   "metadata": {},
   "outputs": [],
   "source": [
    "import matplotlib.pyplot as plt\n",
    "import pandas as pd\n",
    "from tqdm import tqdm"
   ]
  },
  {
   "cell_type": "markdown",
   "metadata": {},
   "source": [
    "### Setup"
   ]
  },
  {
   "cell_type": "code",
   "execution_count": 2,
   "metadata": {},
   "outputs": [],
   "source": [
    "# === Constantes\n",
    "FILE_NAME = 'historico.xlsx'"
   ]
  },
  {
   "cell_type": "markdown",
   "metadata": {},
   "source": [
    "### Caregando dados"
   ]
  },
  {
   "cell_type": "code",
   "execution_count": 3,
   "metadata": {},
   "outputs": [
    {
     "name": "stdout",
     "output_type": "stream",
     "text": [
      "Eliminando 644 registros com média invalida (superior a 10)\n"
     ]
    }
   ],
   "source": [
    "# === Dataframe\n",
    "df = pd.read_excel(FILE_NAME)\n",
    "# Limpando colunas com espaço\n",
    "df.columns = df.columns.str.replace(' ', '')\n",
    "# Filtrando dados com erro de digitação\n",
    "filtro_media_invalida = df['Média'] > 10\n",
    "print (f\"Eliminando {filtro_media_invalida.sum()} registros com média invalida (superior a 10)\")\n",
    "df = df[~filtro_media_invalida]\n",
    "\n",
    "# === Sub dataframes importantes\n",
    "# Alunos reprovados (Média < 5.0)\n",
    "df_reprovados = df[df['Média'] < 5.0]\n",
    "\n",
    "# === Valores importantes\n",
    "# Total de alunos no dataset\n",
    "total_alunos = len(df['Matrícula'].unique())"
   ]
  },
  {
   "cell_type": "markdown",
   "metadata": {},
   "source": [
    "---\n",
    "\n",
    "### Ex 1 \n",
    "\n",
    "Qual é, percentualmente, a taxa de alunos que reprovam em uma disciplina pela 1º vez? E a mesma disciplina pela 2ª vez? 3ª? 4ª? 5ª?..."
   ]
  },
  {
   "cell_type": "code",
   "execution_count": 4,
   "metadata": {},
   "outputs": [
    {
     "name": "stdout",
     "output_type": "stream",
     "text": [
      "827/1192 (69%) dos alunos ja reprovaram ao menos 1 vez(es) em uma mesma disciplina\n",
      "441/1192 (37%) dos alunos ja reprovaram ao menos 2 vez(es) em uma mesma disciplina\n",
      "239/1192 (20%) dos alunos ja reprovaram ao menos 3 vez(es) em uma mesma disciplina\n",
      "107/1192 ( 9%) dos alunos ja reprovaram ao menos 4 vez(es) em uma mesma disciplina\n",
      " 50/1192 ( 4%) dos alunos ja reprovaram ao menos 5 vez(es) em uma mesma disciplina\n"
     ]
    }
   ],
   "source": [
    "# Contabilizando o total de reprovacoes por disciplina, por aluno\n",
    "df_contagem_reprovacoes = df_reprovados.groupby(['Matrícula', 'Disciplina'])['Matrícula'].count()\n",
    "for i in range(1,6):\n",
    "    # Separa as ocorrencias de i ou mais reprovaçoes na mesma materia por um dado aluno\n",
    "    reprovados_i_vezes = df_contagem_reprovacoes[df_contagem_reprovacoes >= i]\n",
    "    # Extrai a matriculas dos alunos, eliminando duplicados\n",
    "    matriculas = reprovados_i_vezes.index.get_level_values('Matrícula').unique()\n",
    "    # Conta o numero de matriculas\n",
    "    numero_de_alunos = len(matriculas)\n",
    "    # Exibindo o resultado\n",
    "    print(f'{numero_de_alunos:>3}/{total_alunos} ({numero_de_alunos/total_alunos*100:>2.0f}%) dos alunos ja reprovaram ao menos {i} vez(es) em uma mesma disciplina')\n",
    "\n"
   ]
  },
  {
   "cell_type": "markdown",
   "metadata": {},
   "source": [
    "---\n",
    "\n",
    "### Ex 2\n",
    "\n",
    "Qual disciplina reprova mais? Qual reprova menos?"
   ]
  },
  {
   "cell_type": "code",
   "execution_count": 5,
   "metadata": {},
   "outputs": [
    {
     "name": "stdout",
     "output_type": "stream",
     "text": [
      "Disciplina | Indice de reprovação (%)\n",
      "  41082    |         9.1296        \n",
      "  56481    |         0.0152        \n"
     ]
    }
   ],
   "source": [
    "indice_reprovacao = df_reprovados['Disciplina'].value_counts(normalize=True, sort=True, ascending=False)*100\n",
    "maior, menor = indice_reprovacao.iloc[[0,-1]].items()\n",
    "\n",
    "print(\"Disciplina | Indice de reprovação (%)\")\n",
    "print(f\"{maior[0]:^10d} | {maior[1]:^22.4f}\")\n",
    "print(f\"{menor[0]:^10d} | {menor[1]:^22.4f}\")"
   ]
  },
  {
   "cell_type": "markdown",
   "metadata": {},
   "source": [
    "O indice de reprovação calculado acima indica, do total reprovações, quantos % são relativos a determinada disciplina.\n",
    "\n",
    "- A disciplina responsável pelo maior número de reprovações (9.1296%) é a de código 41082.\n",
    "- A disciplina responsável pelo menor número de reprovações (0.0152%) é a de código 56481."
   ]
  },
  {
   "cell_type": "markdown",
   "metadata": {},
   "source": [
    "---\n",
    "\n",
    "### Ex 3\n",
    "\n",
    "Qual é a relação entre a nota obtida na reprovação e o sucesso/fracasso da próxima vez que o aluno faz a mesma disciplina?"
   ]
  },
  {
   "cell_type": "code",
   "execution_count": 6,
   "metadata": {},
   "outputs": [
    {
     "name": "stderr",
     "output_type": "stream",
     "text": [
      "100%|██████████| 25490/25490 [00:22<00:00, 1121.21it/s]\n"
     ]
    }
   ],
   "source": [
    "# df_reprovados[['Matrícula','Semestre', 'Ano']]\n",
    "df_por_aluno = df.groupby(['Matrícula', 'Disciplina'])\n",
    "\n",
    "contagem = {\n",
    "    'sucesso': 0,\n",
    "    'fracasso': 0\n",
    "}\n",
    "for (matricula, disciplina), df_notas in tqdm(df_por_aluno):\n",
    "    df_notas.sort_values(['Ano','Semestre'], inplace=True)\n",
    "    df_notas['resultado_seguinte'] = df_notas.shift(-1)['Média']\n",
    "    contagem['sucesso'] += (df_notas['resultado_seguinte'] >= 5).sum() # Reprovou e passou no semestre seguinte\n",
    "    contagem['fracasso'] += (df_notas['resultado_seguinte'] < 5).sum() # Reprovou e reprovou novamente no semestre seguinte\n",
    "    # Casos em que não houve uma proxima vez em que o aluno fez a materia serao desconsiderados por serem nan"
   ]
  },
  {
   "cell_type": "code",
   "execution_count": 7,
   "metadata": {},
   "outputs": [
    {
     "data": {
      "image/png": "[encoded data removed]",
      "text/plain": [
       "<Figure size 432x288 with 1 Axes>"
      ]
     },
     "metadata": {},
     "output_type": "display_data"
    }
   ],
   "source": [
    "fig1, ax1 = plt.subplots()\n",
    "\n",
    "labels = [f'{label} ({valor})' for label, valor in contagem.items()]\n",
    "\n",
    "ax1.pie(contagem.values(), labels=labels, autopct='%1.1f%%',\n",
    "        shadow=True, startangle=90)\n",
    "ax1.axis('equal')\n",
    "\n",
    "plt.show()"
   ]
  },
  {
   "cell_type": "markdown",
   "metadata": {},
   "source": [
    "Pelo grafico podemos notar que pouco mais de metade das vezes (52.6%) em que um aluno reprova em uma disciplina, este é aprovado na próxima tentativa."
   ]
  }
 ],
 "metadata": {
  "kernelspec": {
   "display_name": "Python 3.9.12 64-bit ('adroit-py39': conda)",
   "language": "python",
   "name": "python3"
  },
  "language_info": {
   "codemirror_mode": {
    "name": "ipython",
    "version": 3
   },
   "file_extension": ".py",
   "mimetype": "text/x-python",
   "name": "python",
   "nbconvert_exporter": "python",
   "pygments_lexer": "ipython3",
   "version": "3.9.12"
  },
  "orig_nbformat": 4,
  "vscode": {
   "interpreter": {
    "hash": "4f91521e0e1e4cf546007f6232b1a128bab7c8702fb3b7283a4c1ac6bc4f613c"
   }
  }
 },
 "nbformat": 4,
 "nbformat_minor": 2
}

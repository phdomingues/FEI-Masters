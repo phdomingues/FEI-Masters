{
 "cells": [
  {
   "cell_type": "code",
   "execution_count": 11,
   "metadata": {},
   "outputs": [],
   "source": [
    "import pandas as pd"
   ]
  },
  {
   "cell_type": "code",
   "execution_count": 43,
   "metadata": {},
   "outputs": [],
   "source": [
    "# === Constantes\n",
    "FILE_NAME = 'historico.xlsx'\n",
    "# === Dataframe\n",
    "df = pd.read_excel(FILE_NAME)"
   ]
  },
  {
   "cell_type": "code",
   "execution_count": 16,
   "metadata": {},
   "outputs": [],
   "source": [
    "# === Sub dataframes importantes\n",
    "# Alunos reprovados (Média < 5.0)\n",
    "df_reprovados = df[df['Média'] < 5.0]\n",
    "\n",
    "# === Valores importantes\n",
    "# Total de alunos no dataset\n",
    "total_alunos = len(df['Matrícula'].unique())"
   ]
  },
  {
   "cell_type": "code",
   "execution_count": 47,
   "metadata": {},
   "outputs": [
    {
     "name": "stdout",
     "output_type": "stream",
     "text": [
      "69% dos alunos ja reprovaram ao menos uma vez em alguma disciplina\n"
     ]
    }
   ],
   "source": [
    "# Contando o numero de matriculas que ja foram reprovadas ao menos 1 vez em alguma matéria\n",
    "reprovados1vez = len(df_reprovados['Matrícula'].unique())\n",
    "# Encontrando a % de alunos que reprovaram ao menos 1 vez em alguma materia\n",
    "print(f'{reprovados1vez/total_alunos*100:.0f}% dos alunos ja reprovaram ao menos uma vez em alguma disciplina')"
   ]
  }
 ],
 "metadata": {
  "interpreter": {
   "hash": "b3ba2566441a7c06988d0923437866b63cedc61552a5af99d1f4fb67d367b25f"
  },
  "kernelspec": {
   "display_name": "Python 3.8.8 ('base')",
   "language": "python",
   "name": "python3"
  },
  "language_info": {
   "codemirror_mode": {
    "name": "ipython",
    "version": 3
   },
   "file_extension": ".py",
   "mimetype": "text/x-python",
   "name": "python",
   "nbconvert_exporter": "python",
   "pygments_lexer": "ipython3",
   "version": "3.8.8"
  },
  "orig_nbformat": 4
 },
 "nbformat": 4,
 "nbformat_minor": 2
}

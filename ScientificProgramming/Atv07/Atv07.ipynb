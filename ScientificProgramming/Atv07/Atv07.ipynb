{
 "cells": [
  {
   "cell_type": "code",
   "execution_count": 6,
   "metadata": {},
   "outputs": [],
   "source": [
    "from typing import List, Tuple\n",
    "from itertools import combinations\n",
    "from math import factorial, exp\n",
    "from random import randint, sample, uniform\n",
    "\n",
    "from tqdm import tqdm\n",
    "import numpy as np"
   ]
  },
  {
   "cell_type": "markdown",
   "metadata": {},
   "source": [
    "### Constantes"
   ]
  },
  {
   "cell_type": "code",
   "execution_count": 7,
   "metadata": {},
   "outputs": [],
   "source": [
    "# Os valores estão setados pra 7 apenas para que a resolução por brute force possa executar em tempo razoavel\n",
    "TAM_TABULEIRO = 7 # Sempre quadrado\n",
    "N_RAINHAS = 7"
   ]
  },
  {
   "cell_type": "markdown",
   "metadata": {},
   "source": [
    "### Metodos auxiliares"
   ]
  },
  {
   "cell_type": "code",
   "execution_count": 8,
   "metadata": {},
   "outputs": [],
   "source": [
    "def dupla_valida(r1:List[int], r2:List[int]) -> bool:\n",
    "    mesma_linha = r1[1] == r2[1]\n",
    "    mesma_coluna = r1[0] == r2[0]\n",
    "    mesma_diagonal_primaria = r1[0]-r1[1] == r2[0]-r2[1]\n",
    "    mesma_diagonal_secundaria = r1[0]+r1[1] == r2[0]+r2[1]\n",
    "    return not (mesma_linha or mesma_coluna or mesma_diagonal_primaria or mesma_diagonal_secundaria)\n",
    "\n",
    "def is_valid(rainhas:List[List[int]]) -> bool:\n",
    "    for r1, r2 in combinations(rainhas,2):\n",
    "        if not dupla_valida(r1,r2):\n",
    "            return False\n",
    "    return True\n",
    "\n",
    "def duplicada(rainha:List[int], rainhas:List[List[int]]) -> bool:\n",
    "    for r in rainhas:\n",
    "        if rainha[0] == r[0] and rainha[1] == r[1]:\n",
    "            return False\n",
    "    return True\n",
    "\n",
    "def converter_1d_para_2d(indice:int, linhas:int, colunas:int) -> Tuple[int]:\n",
    "    x = int(indice/colunas)\n",
    "    y = indice%linhas\n",
    "    return (x,y)\n",
    "\n",
    "def score(rainhas:List[List[int]]) -> int:\n",
    "    score = 0\n",
    "    for comb in combinations(rainhas, 2):\n",
    "        score += dupla_valida(*comb)\n",
    "    return score\n",
    "\n",
    "def max_score(n_rainhas:int) -> int:\n",
    "    return len(list(combinations(range(n_rainhas), 2)))\n",
    "\n",
    "def imprime_tabuleiro(tam_tabuleiro:int, rainhas:List[List[int]]) -> None:\n",
    "    tabuleiro = [['-' for _ in range(tam_tabuleiro)] for __ in range(tam_tabuleiro)]\n",
    "    for rainha in rainhas:\n",
    "        tabuleiro[rainha[0]][rainha[1]] = 'X'\n",
    "    tabuleiro = '\\n'.join(['|'.join(linha) for linha in tabuleiro])\n",
    "    print(tabuleiro)\n",
    "\n",
    "def move(rainha:List[int], tam_tabuleiro:int):\n",
    "    # Move x\n",
    "    atual_x = rainha[0]\n",
    "    novo_x = atual_x + randint(-1,1)\n",
    "    novo_x = novo_x if novo_x > 0 and novo_x < tam_tabuleiro-1 else atual_x\n",
    "    # Move y\n",
    "    atual_y = rainha[1]\n",
    "    novo_y = atual_y + randint(-1,1)\n",
    "    novo_y = novo_y if novo_y > 0 and novo_y < tam_tabuleiro-1 else atual_y\n",
    "    # Nova rainha\n",
    "    return (novo_x, novo_y)\n",
    "\n",
    "def gera_semelhante(solucao:List[List[int]], tam_tabuleiro:int) -> List[List[int]]:\n",
    "    nova_solucao = solucao.copy()\n",
    "    # Sorteia uma quantidade de rainhas para serem modificadas, \n",
    "    # de 1 a 3 (ou a quantidade maxima de rainhas caso hajam menos de 3)\n",
    "    n_rainhas_modificadas = randint(1,max(3,len(solucao)))\n",
    "    # Sorteia n rainhas (apenas seus indices)\n",
    "    rainhas_idx = sample(range(len(solucao)),k=n_rainhas_modificadas)\n",
    "    # Move-as para casas adjacentes\n",
    "    for rainha_idx in rainhas_idx:\n",
    "        nova_solucao[rainha_idx] = move(solucao[rainha_idx],tam_tabuleiro)\n",
    "    return nova_solucao"
   ]
  },
  {
   "cell_type": "markdown",
   "metadata": {},
   "source": [
    "### Algoritmos para resolução do problema"
   ]
  },
  {
   "cell_type": "code",
   "execution_count": 9,
   "metadata": {},
   "outputs": [],
   "source": [
    "def brute_force(tamanho_tabuleiro:int, n_rainhas:int) -> List[int]:\n",
    "    max_combinacoes = factorial(tamanho_tabuleiro**2)/(factorial(tamanho_tabuleiro**2-n_rainhas)*factorial(n_rainhas))\n",
    "    for comb in tqdm(combinations(range(tamanho_tabuleiro**2), n_rainhas),total=max_combinacoes):\n",
    "        rainhas = [converter_1d_para_2d(comb_1d,tamanho_tabuleiro,tamanho_tabuleiro) for comb_1d in comb]\n",
    "        if is_valid(rainhas):\n",
    "            return rainhas\n",
    "    return []\n",
    "            \n",
    "def subida_encosta(tamanho_tabuleiro:int, n_rainhas:int, n_vizinhos:int=100, max_iter:int=100000) -> List[int]:\n",
    "    score_max = max_score(n_rainhas)\n",
    "    # Inicia com uma solucao aleatoria\n",
    "    solucao = [(randint(0,tamanho_tabuleiro-1), randint(0,tamanho_tabuleiro-1)) for _ in range(n_rainhas)]\n",
    "    melhor_score = score(solucao)\n",
    "    i = 0\n",
    "    while i < max_iter:\n",
    "        # Gera vizinhos parecidos\n",
    "        vizinhos = [gera_semelhante(solucao, tamanho_tabuleiro) for _ in range(n_vizinhos)]\n",
    "        scores = [score(vizinho) for vizinho in vizinhos]\n",
    "        melhor_vizinho_idx = np.argmax(scores)\n",
    "        if melhor_score < scores[melhor_vizinho_idx]:\n",
    "            solucao = vizinhos[melhor_vizinho_idx]\n",
    "            melhor_score = scores[melhor_vizinho_idx]\n",
    "            # Verifica se atingiu o score maximo, caso positivo nao temos motivo para continuar\n",
    "            if melhor_score == score_max:\n",
    "                i = max_iter\n",
    "        else:\n",
    "            break\n",
    "        i+=1\n",
    "    return solucao\n",
    "\n",
    "def simulated_annealing(tamanho_tabuleiro:int, n_rainhas:int, n_vizinhos:int=100, fator:float=0.95):\n",
    "    score_max = max_score(n_rainhas)\n",
    "    temp_inicial = 100\n",
    "    temp_final = 1\n",
    "    solucao = [(randint(0,tamanho_tabuleiro-1), randint(0,tamanho_tabuleiro-1)) for _ in range(n_rainhas)]\n",
    "    melhor_score = score(solucao)\n",
    "\n",
    "    temp_atual = temp_inicial\n",
    "    while temp_atual > temp_final:\n",
    "        vizinhos = [gera_semelhante(solucao, tamanho_tabuleiro) for _ in range(n_vizinhos)]\n",
    "        scores = [score(vizinho) for vizinho in vizinhos]\n",
    "        melhor_vizinho_idx = np.argmax(scores)\n",
    "        \n",
    "        diferenca_score = melhor_score - scores[melhor_vizinho_idx]\n",
    "        if diferenca_score >= 0:\n",
    "            solucao = vizinhos[melhor_vizinho_idx]\n",
    "            melhor_score = scores[melhor_vizinho_idx]\n",
    "            # Verifica se atingiu o score maximo, caso positivo nao temos motivo para continuar\n",
    "            if melhor_score == score_max:\n",
    "                break\n",
    "        else:\n",
    "            if uniform(0,1) < exp(diferenca_score/temp_atual):\n",
    "                solucao = vizinhos[melhor_vizinho_idx]\n",
    "                melhor_score = scores[melhor_vizinho_idx]\n",
    "        temp_atual = temp_atual * fator\n",
    "    return solucao"
   ]
  },
  {
   "cell_type": "markdown",
   "metadata": {},
   "source": [
    "### Simulação"
   ]
  },
  {
   "cell_type": "code",
   "execution_count": 10,
   "metadata": {},
   "outputs": [
    {
     "name": "stdout",
     "output_type": "stream",
     "text": [
      "-|-|-|-|-|-|-\n",
      "-|X|-|-|-|-|-\n",
      "-|-|-|-|X|-|-\n",
      "-|-|-|-|-|-|-\n",
      "X|-|-|-|-|-|-\n",
      "-|-|-|X|-|-|-\n",
      "-|-|-|-|-|X|-\n",
      "Posições das rainhas: [(6, 5), (2, 4), (5, 3), (1, 1), (1, 1), (2, 4), (4, 0)]\n",
      "score: 19\n",
      "====================================================================================================\n",
      "-|-|-|-|-|-|-\n",
      "-|-|X|-|-|-|-\n",
      "-|-|-|-|X|-|-\n",
      "-|X|-|-|-|-|-\n",
      "-|-|-|X|-|-|-\n",
      "-|-|-|-|-|X|-\n",
      "-|-|-|-|-|-|X\n",
      "Posições das rainhas: [(6, 6), (5, 5), (4, 3), (3, 1), (3, 1), (1, 2), (2, 4)]\n",
      "score: 19\n",
      "====================================================================================================\n"
     ]
    },
    {
     "name": "stderr",
     "output_type": "stream",
     "text": [
      " 10%|█         | 8859382/85900584.0 [00:13<01:56, 660100.74it/s]"
     ]
    },
    {
     "name": "stdout",
     "output_type": "stream",
     "text": [
      "X|-|-|-|-|-|-\n",
      "-|-|X|-|-|-|-\n",
      "-|-|-|-|X|-|-\n",
      "-|-|-|-|-|-|X\n",
      "-|X|-|-|-|-|-\n",
      "-|-|-|X|-|-|-\n",
      "-|-|-|-|-|X|-\n",
      "Posições das rainhas: [(0, 0), (1, 2), (2, 4), (3, 6), (4, 1), (5, 3), (6, 5)]\n",
      "score: 21\n"
     ]
    },
    {
     "name": "stderr",
     "output_type": "stream",
     "text": [
      "\n"
     ]
    }
   ],
   "source": [
    "solucoes = {}\n",
    "\n",
    "\n",
    "solucoes['subida_encosta'] = subida_encosta(TAM_TABULEIRO, N_RAINHAS, n_vizinhos=100)\n",
    "imprime_tabuleiro(TAM_TABULEIRO, solucoes['subida_encosta'])\n",
    "print(f\"Posições das rainhas: {solucoes['subida_encosta']}\")\n",
    "print(f\"score: {score(solucoes['subida_encosta'])}\")\n",
    "\n",
    "print('='*100)\n",
    "\n",
    "solucoes['recozimento_simulado'] = simulated_annealing(TAM_TABULEIRO, N_RAINHAS, n_vizinhos=100)\n",
    "imprime_tabuleiro(TAM_TABULEIRO, solucoes['recozimento_simulado'])\n",
    "print(f\"Posições das rainhas: {solucoes['recozimento_simulado']}\")\n",
    "print(f\"score: {score(solucoes['recozimento_simulado'])}\")\n",
    "\n",
    "print('='*100)\n",
    "\n",
    "solucoes['forca_bruta'] = brute_force(TAM_TABULEIRO, N_RAINHAS)\n",
    "imprime_tabuleiro(TAM_TABULEIRO, solucoes['forca_bruta'])\n",
    "print(f\"Posições das rainhas: {solucoes['forca_bruta']}\")\n",
    "print(f\"score: {score(solucoes['forca_bruta'])}\")"
   ]
  },
  {
   "cell_type": "markdown",
   "metadata": {},
   "source": [
    "Caso o numero de rainhas no desenho seja menor do que o fornecido, duas rainhas encontram-se na mesma posição.\n",
    "\n",
    "É possivel notar que os métodos de simulated annealing e hill climb podem ficar presos em maximos locais, soluções não validas porem próximas de validas."
   ]
  }
 ],
 "metadata": {
  "kernelspec": {
   "display_name": "Python 3.10.4 64-bit ('masters': conda)",
   "language": "python",
   "name": "python3"
  },
  "language_info": {
   "codemirror_mode": {
    "name": "ipython",
    "version": 3
   },
   "file_extension": ".py",
   "mimetype": "text/x-python",
   "name": "python",
   "nbconvert_exporter": "python",
   "pygments_lexer": "ipython3",
   "version": "3.10.4"
  },
  "orig_nbformat": 4,
  "vscode": {
   "interpreter": {
    "hash": "cceebfb4141302d7dfc1bbc535595815e35fccef5eb980b378fd9f5fdc56a8a2"
   }
  }
 },
 "nbformat": 4,
 "nbformat_minor": 2
}

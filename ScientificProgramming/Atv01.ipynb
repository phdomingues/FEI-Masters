{
 "cells": [
  {
   "cell_type": "markdown",
   "metadata": {},
   "source": [
    "# Atividade 01\n",
    "\n",
    "*Pedro Henrique Silva Domingues*\n",
    "\n",
    "---\n",
    "\n",
    "## Bibliotecas"
   ]
  },
  {
   "cell_type": "code",
   "execution_count": 1,
   "metadata": {},
   "outputs": [],
   "source": [
    "# Std. Lib\n",
    "from random import randint\n",
    "\n",
    "# 3rd Party\n",
    "import matplotlib.pyplot as plt\n",
    "import numpy as np\n",
    "import pandas as pd"
   ]
  },
  {
   "cell_type": "markdown",
   "metadata": {},
   "source": [
    "## Classes"
   ]
  },
  {
   "cell_type": "code",
   "execution_count": 2,
   "metadata": {},
   "outputs": [],
   "source": [
    "class InvalidDiceException(Exception):\n",
    "    def __init__(self, *args) -> None:\n",
    "        super().__init__(*args)\n",
    "\n",
    "class Dice:\n",
    "    \"\"\"Dice class to simulate a dice roll. Unlike a real dice, this can have any number of sides from 2 to n\"\"\"\n",
    "    def __init__(self, sides:np.uint64) -> None:\n",
    "        # Verifying if the dice is valid\n",
    "        if sides < 1:\n",
    "            raise InvalidDiceException('Dice can\\'t have less than 1 side')\n",
    "        self.sides = sides # Number of sides in the dice\n",
    "        self.roll = lambda: randint(1, self.sides) # Public method to roll the dice"
   ]
  },
  {
   "cell_type": "markdown",
   "metadata": {},
   "source": [
    "## Parâmetros"
   ]
  },
  {
   "cell_type": "code",
   "execution_count": 3,
   "metadata": {},
   "outputs": [],
   "source": [
    "NDICES = 2 # Number of dices used in the experiment\n",
    "SIDES = 6 # Number of sides in each dice\n",
    "NROLLS = 1000 # Number of rolls for each dice"
   ]
  },
  {
   "cell_type": "markdown",
   "metadata": {},
   "source": [
    "## Geração dos resultados"
   ]
  },
  {
   "cell_type": "code",
   "execution_count": 4,
   "metadata": {},
   "outputs": [],
   "source": [
    "# Instance all dices\n",
    "dices = [Dice(SIDES) for _ in range(NDICES)]\n",
    "# Roll the dice NROLLS times and store the results as a dataframe\n",
    "roll_df = pd.DataFrame([{f'Dice{i}': dices[i].roll() for i in range(NDICES)} for _ in range(NROLLS)])\n",
    "# Generate a sum column for the total sum of the dices in each roll\n",
    "roll_df['sum'] = roll_df.sum(axis=1)"
   ]
  },
  {
   "cell_type": "markdown",
   "metadata": {},
   "source": [
    "## Visualização dos resultados"
   ]
  },
  {
   "cell_type": "code",
   "execution_count": 5,
   "metadata": {},
   "outputs": [],
   "source": [
    "# === This cell contain visualization for \n",
    "# Generating a table (numpy matrix) containing the count of each possible pair of occurrences for the 2 dice\n",
    "roll_table = np.histogram2d(\n",
    "    roll_df['Dice0'], # X\n",
    "    roll_df['Dice1'], # Y\n",
    "    bins=[range(1,SIDES+2)]*NDICES, # Bin values as [min, max[ -- max[ is the reason for the +2 instead of +1\n",
    "    range=[(1,SIDES) for _ in range(NDICES)] # range of each bin [min, max]\n",
    ")[0].astype(np.uint64) # Table is in index 0, cast all values from float to unsigned int\n",
    "\n",
    "# Cloning the table and normalizing the values\n",
    "roll_table_normed = roll_table/NROLLS\n",
    "\n",
    "# Converting the table to a dataframe\n",
    "roll_table_normed_df = pd.DataFrame(roll_table_normed, columns=range(1,7), index=pd.Index(range(1,7)))"
   ]
  },
  {
   "cell_type": "code",
   "execution_count": 6,
   "metadata": {},
   "outputs": [
    {
     "data": {
      "image/png": "[encoded data removed]",
      "text/plain": [
       "<Figure size 432x288 with 1 Axes>"
      ]
     },
     "metadata": {
      "needs_background": "light"
     },
     "output_type": "display_data"
    },
    {
     "data": {
      "image/png": "[encoded data removed]",
      "text/plain": [
       "<Figure size 432x288 with 1 Axes>"
      ]
     },
     "metadata": {
      "needs_background": "light"
     },
     "output_type": "display_data"
    }
   ],
   "source": [
    "# Visualizing the histogram of each dice separately, works with n dice\n",
    "for dice_idx in range(NDICES):\n",
    "    # Calculate the sum of occurrences for each value in the dice\n",
    "    occurrences = roll_df[f'Dice{dice_idx}'].value_counts().sort_index().reindex(range(1,SIDES+1), fill_value=0)\n",
    "    # Convert to percentage (0~100)\n",
    "    occurrences*=100\n",
    "    # Plot as a histogram\n",
    "    plt.bar(range(1,SIDES+1), occurrences)\n",
    "    plt.ylim(0,max(occurrences)+5)\n",
    "    plt.xticks(range(1,SIDES+1))\n",
    "    plt.title(f\"DICE {dice_idx}\")\n",
    "    plt.ylabel('Occurrence (%)')\n",
    "    plt.xlabel('Roll Value')\n",
    "    plt.show()"
   ]
  },
  {
   "cell_type": "markdown",
   "metadata": {},
   "source": [
    "Como é possível notar nos gráficos a cima, a distribuição de probabilidade é uniforme entre os valores dos dados, replicando o comportamento de um dado real."
   ]
  },
  {
   "cell_type": "markdown",
   "metadata": {},
   "source": [
    "### Tabela de combinações (% 0~1) em cores"
   ]
  },
  {
   "cell_type": "code",
   "execution_count": 7,
   "metadata": {},
   "outputs": [
    {
     "data": {
      "text/html": [
       "<style type=\"text/css\">\n",
       "#T_acf89_row0_col0, #T_acf89_row2_col1 {\n",
       "  background-color: #fede89;\n",
       "}\n",
       "#T_acf89_row0_col1, #T_acf89_row2_col2 {\n",
       "  background-color: #fdaf62;\n",
       "}\n",
       "#T_acf89_row0_col2, #T_acf89_row5_col0 {\n",
       "  background-color: #f1f9ac;\n",
       "}\n",
       "#T_acf89_row0_col3 {\n",
       "  background-color: #54b45f;\n",
       "}\n",
       "#T_acf89_row0_col4, #T_acf89_row2_col5, #T_acf89_row5_col5 {\n",
       "  background-color: #93d168;\n",
       "}\n",
       "#T_acf89_row0_col5, #T_acf89_row3_col5, #T_acf89_row5_col4 {\n",
       "  background-color: #feeda1;\n",
       "}\n",
       "#T_acf89_row1_col0, #T_acf89_row1_col3, #T_acf89_row4_col2, #T_acf89_row4_col4, #T_acf89_row4_col5 {\n",
       "  background-color: #dff293;\n",
       "}\n",
       "#T_acf89_row1_col1 {\n",
       "  background-color: #ad0826;\n",
       "}\n",
       "#T_acf89_row1_col2, #T_acf89_row4_col1 {\n",
       "  background-color: #c9e881;\n",
       "}\n",
       "#T_acf89_row1_col4 {\n",
       "  background-color: #097940;\n",
       "}\n",
       "#T_acf89_row1_col5 {\n",
       "  background-color: #afdd70;\n",
       "}\n",
       "#T_acf89_row2_col0, #T_acf89_row3_col3, #T_acf89_row4_col0 {\n",
       "  background-color: #e75337;\n",
       "}\n",
       "#T_acf89_row2_col3, #T_acf89_row3_col0 {\n",
       "  background-color: #fdc776;\n",
       "}\n",
       "#T_acf89_row2_col4, #T_acf89_row3_col4 {\n",
       "  background-color: #da362a;\n",
       "}\n",
       "#T_acf89_row3_col1, #T_acf89_row5_col1, #T_acf89_row5_col2 {\n",
       "  background-color: #fffcba;\n",
       "}\n",
       "#T_acf89_row3_col2 {\n",
       "  background-color: #f47044;\n",
       "}\n",
       "#T_acf89_row4_col3, #T_acf89_row5_col3 {\n",
       "  background-color: #75c465;\n",
       "}\n",
       "</style>\n",
       "<table id=\"T_acf89\">\n",
       "  <thead>\n",
       "    <tr>\n",
       "      <th class=\"blank level0\" >&nbsp;</th>\n",
       "      <th id=\"T_acf89_level0_col0\" class=\"col_heading level0 col0\" >1</th>\n",
       "      <th id=\"T_acf89_level0_col1\" class=\"col_heading level0 col1\" >2</th>\n",
       "      <th id=\"T_acf89_level0_col2\" class=\"col_heading level0 col2\" >3</th>\n",
       "      <th id=\"T_acf89_level0_col3\" class=\"col_heading level0 col3\" >4</th>\n",
       "      <th id=\"T_acf89_level0_col4\" class=\"col_heading level0 col4\" >5</th>\n",
       "      <th id=\"T_acf89_level0_col5\" class=\"col_heading level0 col5\" >6</th>\n",
       "    </tr>\n",
       "  </thead>\n",
       "  <tbody>\n",
       "    <tr>\n",
       "      <th id=\"T_acf89_level0_row0\" class=\"row_heading level0 row0\" >1</th>\n",
       "      <td id=\"T_acf89_row0_col0\" class=\"data row0 col0\" >0.026000</td>\n",
       "      <td id=\"T_acf89_row0_col1\" class=\"data row0 col1\" >0.024000</td>\n",
       "      <td id=\"T_acf89_row0_col2\" class=\"data row0 col2\" >0.029000</td>\n",
       "      <td id=\"T_acf89_row0_col3\" class=\"data row0 col3\" >0.035000</td>\n",
       "      <td id=\"T_acf89_row0_col4\" class=\"data row0 col4\" >0.033000</td>\n",
       "      <td id=\"T_acf89_row0_col5\" class=\"data row0 col5\" >0.027000</td>\n",
       "    </tr>\n",
       "    <tr>\n",
       "      <th id=\"T_acf89_level0_row1\" class=\"row_heading level0 row1\" >2</th>\n",
       "      <td id=\"T_acf89_row1_col0\" class=\"data row1 col0\" >0.030000</td>\n",
       "      <td id=\"T_acf89_row1_col1\" class=\"data row1 col1\" >0.018000</td>\n",
       "      <td id=\"T_acf89_row1_col2\" class=\"data row1 col2\" >0.031000</td>\n",
       "      <td id=\"T_acf89_row1_col3\" class=\"data row1 col3\" >0.030000</td>\n",
       "      <td id=\"T_acf89_row1_col4\" class=\"data row1 col4\" >0.038000</td>\n",
       "      <td id=\"T_acf89_row1_col5\" class=\"data row1 col5\" >0.032000</td>\n",
       "    </tr>\n",
       "    <tr>\n",
       "      <th id=\"T_acf89_level0_row2\" class=\"row_heading level0 row2\" >3</th>\n",
       "      <td id=\"T_acf89_row2_col0\" class=\"data row2 col0\" >0.021000</td>\n",
       "      <td id=\"T_acf89_row2_col1\" class=\"data row2 col1\" >0.026000</td>\n",
       "      <td id=\"T_acf89_row2_col2\" class=\"data row2 col2\" >0.024000</td>\n",
       "      <td id=\"T_acf89_row2_col3\" class=\"data row2 col3\" >0.025000</td>\n",
       "      <td id=\"T_acf89_row2_col4\" class=\"data row2 col4\" >0.020000</td>\n",
       "      <td id=\"T_acf89_row2_col5\" class=\"data row2 col5\" >0.033000</td>\n",
       "    </tr>\n",
       "    <tr>\n",
       "      <th id=\"T_acf89_level0_row3\" class=\"row_heading level0 row3\" >4</th>\n",
       "      <td id=\"T_acf89_row3_col0\" class=\"data row3 col0\" >0.025000</td>\n",
       "      <td id=\"T_acf89_row3_col1\" class=\"data row3 col1\" >0.028000</td>\n",
       "      <td id=\"T_acf89_row3_col2\" class=\"data row3 col2\" >0.022000</td>\n",
       "      <td id=\"T_acf89_row3_col3\" class=\"data row3 col3\" >0.021000</td>\n",
       "      <td id=\"T_acf89_row3_col4\" class=\"data row3 col4\" >0.020000</td>\n",
       "      <td id=\"T_acf89_row3_col5\" class=\"data row3 col5\" >0.027000</td>\n",
       "    </tr>\n",
       "    <tr>\n",
       "      <th id=\"T_acf89_level0_row4\" class=\"row_heading level0 row4\" >5</th>\n",
       "      <td id=\"T_acf89_row4_col0\" class=\"data row4 col0\" >0.021000</td>\n",
       "      <td id=\"T_acf89_row4_col1\" class=\"data row4 col1\" >0.031000</td>\n",
       "      <td id=\"T_acf89_row4_col2\" class=\"data row4 col2\" >0.030000</td>\n",
       "      <td id=\"T_acf89_row4_col3\" class=\"data row4 col3\" >0.034000</td>\n",
       "      <td id=\"T_acf89_row4_col4\" class=\"data row4 col4\" >0.030000</td>\n",
       "      <td id=\"T_acf89_row4_col5\" class=\"data row4 col5\" >0.030000</td>\n",
       "    </tr>\n",
       "    <tr>\n",
       "      <th id=\"T_acf89_level0_row5\" class=\"row_heading level0 row5\" >6</th>\n",
       "      <td id=\"T_acf89_row5_col0\" class=\"data row5 col0\" >0.029000</td>\n",
       "      <td id=\"T_acf89_row5_col1\" class=\"data row5 col1\" >0.028000</td>\n",
       "      <td id=\"T_acf89_row5_col2\" class=\"data row5 col2\" >0.028000</td>\n",
       "      <td id=\"T_acf89_row5_col3\" class=\"data row5 col3\" >0.034000</td>\n",
       "      <td id=\"T_acf89_row5_col4\" class=\"data row5 col4\" >0.027000</td>\n",
       "      <td id=\"T_acf89_row5_col5\" class=\"data row5 col5\" >0.033000</td>\n",
       "    </tr>\n",
       "  </tbody>\n",
       "</table>\n"
      ],
      "text/plain": [
       "<pandas.io.formats.style.Styler at 0x7fb7415a9630>"
      ]
     },
     "execution_count": 7,
     "metadata": {},
     "output_type": "execute_result"
    }
   ],
   "source": [
    "# === This snippet to generate a colored table displaying the results was addapted from\n",
    "# https://stackoverflow.com/questions/44971502/what-code-for-a-table-with-colors-instead-of-values\n",
    "from matplotlib import colors\n",
    "def background_gradient(s, m, M, cmap='PuBu', low=0, high=0):\n",
    "    rng = M - m\n",
    "    norm = colors.Normalize(m - (rng * low),\n",
    "                            M + (rng * high))\n",
    "    normed = norm(s.values)\n",
    "    c = [colors.rgb2hex(x) for x in plt.cm.get_cmap(cmap)(normed)]\n",
    "    return [f'background-color: {color}' for color in c]\n",
    "\n",
    "roll_table_normed_df.style.apply(background_gradient,\n",
    "               cmap='RdYlGn',\n",
    "               m=roll_table_normed_df.min().min(),\n",
    "               M=roll_table_normed_df.max().max(),\n",
    "               low=roll_table_normed_df.min().min(),\n",
    "               high=roll_table_normed_df.max().max())"
   ]
  },
  {
   "cell_type": "markdown",
   "metadata": {},
   "source": [
    "A tabela a cima mostra a probabilidade de ocorrencia de todas as combinações possíveis para os dois dados, com as colunas indicando o valor de um dado e as linhas do outro.\n",
    "\n",
    "A partir deste resultado conseguimos perceber que todas as combinações possuem probabilidades de ocorrencia muito próxima, com a diferença entre a máxima e mínima sendo apenas de `3.8 - 1.6 = 2.2%`.\n",
    "\n",
    "### Verificando a soma dos dados"
   ]
  },
  {
   "cell_type": "code",
   "execution_count": 8,
   "metadata": {},
   "outputs": [
    {
     "data": {
      "image/png": "[encoded data removed]",
      "text/plain": [
       "<Figure size 432x288 with 1 Axes>"
      ]
     },
     "metadata": {
      "needs_background": "light"
     },
     "output_type": "display_data"
    }
   ],
   "source": [
    "count, idx = np.histogram(roll_df['sum'], bins=range(2,SIDES*2+2))\n",
    "idx = idx[:-1] # histogram will always return 1 more index representing bins with greater value, we don't need it\n",
    "count = count.astype(np.int64) / sum(count)\n",
    "\n",
    "plt.bar(idx, count)\n",
    "plt.ylim(0,max(count)+0.05)\n",
    "plt.xticks(range(1,SIDES*2+1))\n",
    "plt.title(f\"DICES SUM\")\n",
    "plt.ylabel('Occurrence (%)')\n",
    "plt.xlabel('Sum of all dice rolls')\n",
    "plt.show()"
   ]
  },
  {
   "cell_type": "markdown",
   "metadata": {},
   "source": [
    "Observando a soma dos dois dados notamos um comportamento diferente do anterior, agora os resultados deixam de apresentar uma distribuição uniforme e passam o ter comportamento de uma curva normal, com 7 sendo o valor mais provável e 2/12 sendo os valores menos prováveis. \n",
    "\n",
    "Isto ocorreu devido a probabilidade de cada resultado ser diretamente proporcional ao número de combinações que resultam neste valor. \n",
    "\n",
    "Como existem `6*6 = 36` possíveis combinações (considerando que combinações como 3/5 e 5/3 são diferentes), podemos deduzir que:\n",
    "\n",
    "- Os valores 2 e 12 possuem apenas uma combinação possivel cada, 1/1 e 6/6 respectivamente, portanto suas probabilidades são de `1/36=2.77%` (valor próximo aos obtidos experimentalmente de `2.6%` e `3.3%`);\n",
    "- O valor 7 possui o maior número de combinações possíveis (6), sendo essas equivalentes aos elementos da diagonal secundária da matriz apresentada a cima. Portando sua probabilidade é de `6/36=16.66%`, próxima a obtida experimentalmente de `2,7+3,8+2,5+2,2+3,1+2,9 = 17.2%`"
   ]
  }
 ],
 "metadata": {
  "kernelspec": {
   "display_name": "Python 3.10.4 64-bit ('masters': conda)",
   "language": "python",
   "name": "python3"
  },
  "language_info": {
   "codemirror_mode": {
    "name": "ipython",
    "version": 3
   },
   "file_extension": ".py",
   "mimetype": "text/x-python",
   "name": "python",
   "nbconvert_exporter": "python",
   "pygments_lexer": "ipython3",
   "version": "3.10.4"
  },
  "orig_nbformat": 4,
  "vscode": {
   "interpreter": {
    "hash": "cceebfb4141302d7dfc1bbc535595815e35fccef5eb980b378fd9f5fdc56a8a2"
   }
  }
 },
 "nbformat": 4,
 "nbformat_minor": 2
}

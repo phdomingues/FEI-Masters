{
 "cells": [
  {
   "cell_type": "code",
   "execution_count": 256,
   "metadata": {},
   "outputs": [],
   "source": [
    "from random import randint\n",
    "from typing import List\n",
    "\n",
    "import matplotlib.pyplot as plt\n",
    "import numpy as np\n",
    "import pandas as pd"
   ]
  },
  {
   "cell_type": "code",
   "execution_count": 257,
   "metadata": {},
   "outputs": [],
   "source": [
    "class InvalidDiceException(Exception):\n",
    "    def __init__(self, *args):\n",
    "        super().__init__(*args)\n",
    "\n",
    "class Dice:\n",
    "    def __init__(self, sides:np.uint64):\n",
    "        if sides < 1:\n",
    "            raise InvalidDiceException('Dice can\\'t have less than 1 side')\n",
    "        self.sides = sides\n",
    "        self.roll = lambda: randint(1, self.sides)\n",
    "    def roll_many(self, n:np.uint64, pct:bool=False) -> List[np.uint64]:\n",
    "        \"\"\"Rolls the dice multiple times.\n",
    "\n",
    "        Args:\n",
    "            n (np.uint64): Number or rolls\n",
    "            pct (bool): If True sets the return histogram as a pdf (probablility density function). Defaults to false.\n",
    "\n",
    "        Returns:\n",
    "            List[np.uint64]: Histogram of rolls\n",
    "        \"\"\"\n",
    "        # Input verification\n",
    "        if n < 0:\n",
    "            raise ValueError(\"Can't roll a negative amount of times\")\n",
    "        # Setup\n",
    "        histogram = np.zeros(self.sides, dtype=np.uint)\n",
    "        # Roll loop\n",
    "        for _ in range(n):\n",
    "            histogram[self.roll()-1] += 1\n",
    "            \n",
    "        return histogram if not pct else histogram/n"
   ]
  },
  {
   "cell_type": "code",
   "execution_count": 258,
   "metadata": {},
   "outputs": [],
   "source": [
    "NDICES = 2 # Number of dices used in the experiment\n",
    "SIDES = 6 # Number of sides in each dice\n",
    "NROLLS = 1000 # Number of rolls for each dice"
   ]
  },
  {
   "cell_type": "code",
   "execution_count": 259,
   "metadata": {},
   "outputs": [],
   "source": [
    "# Instance the dices\n",
    "dices = [Dice(SIDES) for _ in range(NDICES)]\n",
    "# Create a table to store the rolls\n",
    "# roll_table = np.zeros([SIDES]*NDICES, dtype=np.uint64)\n",
    "# for roll_idx in range(NROLLS):\n",
    "#     # Roll all the dices\n",
    "#     rolls = np.array(list(map(lambda dice: dice.roll(), dices)))\n",
    "#     roll_idx = tuple(zip(rolls-1))\n",
    "#     roll_table[roll_idx]+=1\n",
    "# roll_table_normed = roll_table/NROLLS\n",
    "# roll_table\n",
    "\n",
    "roll_df = pd.DataFrame([{f'Dice{i}': dices[i].roll() for i in range(NDICES)} for _ in range(NROLLS)])\n",
    "roll_df['sum'] = roll_df.sum(axis=1)\n",
    "\n",
    "roll_table = np.histogram2d(\n",
    "    roll_df['Dice0'], # X\n",
    "    roll_df['Dice1'], # Y\n",
    "    bins=[range(1,SIDES+2)]*NDICES, # Bin values as [min, max[ -- max[ is the reason for the +2 instead of +1\n",
    "    range=[(1,SIDES) for _ in range(NDICES)] # range of each bin [min, max]\n",
    ")[0].astype(np.uint64) # Table is in index 0, cast all values from float to unsigned int\n",
    "roll_table_normed = roll_table/NROLLS"
   ]
  },
  {
   "cell_type": "code",
   "execution_count": 260,
   "metadata": {},
   "outputs": [
    {
     "data": {
      "text/plain": [
       "(array([[31., 21., 23., 37., 33., 20.],\n",
       "        [29., 22., 27., 29., 23., 16.],\n",
       "        [30., 28., 26., 37., 27., 23.],\n",
       "        [27., 25., 43., 24., 12., 25.],\n",
       "        [22., 31., 30., 30., 26., 31.],\n",
       "        [34., 31., 26., 35., 35., 31.]]),\n",
       " array([1, 2, 3, 4, 5, 6, 7]),\n",
       " array([1, 2, 3, 4, 5, 6, 7]))"
      ]
     },
     "execution_count": 260,
     "metadata": {},
     "output_type": "execute_result"
    }
   ],
   "source": [
    "np.histogram2d(\n",
    "    roll_df['Dice0'], # X\n",
    "    roll_df['Dice1'], # Y\n",
    "    bins=[range(1,SIDES+2)]*NDICES, # Bin values as [min, max[ -- max[ is the reason for the +2 instead of +1\n",
    "    range=[(1,SIDES) for _ in range(NDICES)] # range of each bin [min, max]\n",
    ")"
   ]
  },
  {
   "cell_type": "code",
   "execution_count": 267,
   "metadata": {},
   "outputs": [
    {
     "data": {
      "image/png": "[encoded data removed]",
      "text/plain": [
       "<Figure size 432x288 with 1 Axes>"
      ]
     },
     "metadata": {
      "needs_background": "light"
     },
     "output_type": "display_data"
    },
    {
     "data": {
      "image/png": "[encoded data removed]",
      "text/plain": [
       "<Figure size 432x288 with 1 Axes>"
      ]
     },
     "metadata": {
      "needs_background": "light"
     },
     "output_type": "display_data"
    }
   ],
   "source": [
    "for axis in range(NDICES):\n",
    "    np.apply_over_axes(np.sum, roll_table_normed, [i for i in range(NDICES) if i!=axis])\n",
    "    occurrences = np.sum(roll_table_normed, axis=axis)*100\n",
    "    plt.bar(range(1,SIDES+1), occurrences)\n",
    "    plt.ylim(0,max(occurrences)+5)\n",
    "    plt.xticks(range(1,SIDES+1))\n",
    "    plt.title(f\"DICE {axis}\")\n",
    "    plt.ylabel('Occurrence (%)')\n",
    "    plt.xlabel('Roll Value')\n",
    "    plt.show()"
   ]
  },
  {
   "cell_type": "code",
   "execution_count": 262,
   "metadata": {},
   "outputs": [
    {
     "data": {
      "image/png": "[encoded data removed]",
      "text/plain": [
       "<Figure size 432x288 with 1 Axes>"
      ]
     },
     "metadata": {
      "needs_background": "light"
     },
     "output_type": "display_data"
    }
   ],
   "source": [
    "array2str = np.vectorize(str)\n",
    "# Add a table at the bottom of the axes\n",
    "the_table = plt.table(cellText=array2str(roll_table),\n",
    "                      rowLabels=array2str(range(1,SIDES+1)),\n",
    "                      cellColours=plt.cm.BuPu(roll_table_normed),\n",
    "                      colLabels=array2str(range(1,SIDES+1)),\n",
    "                      loc='bottom')"
   ]
  },
  {
   "cell_type": "code",
   "execution_count": 272,
   "metadata": {},
   "outputs": [
    {
     "data": {
      "text/html": [
       "<style type=\"text/css\">\n",
       "#T_d8c70_row0_col0, #T_d8c70_row4_col1, #T_d8c70_row4_col5, #T_d8c70_row5_col1, #T_d8c70_row5_col5 {\n",
       "  background-color: #dcf08f;\n",
       "}\n",
       "#T_d8c70_row0_col1 {\n",
       "  background-color: #fca55d;\n",
       "}\n",
       "#T_d8c70_row0_col2, #T_d8c70_row1_col4, #T_d8c70_row2_col5 {\n",
       "  background-color: #fdc776;\n",
       "}\n",
       "#T_d8c70_row0_col3, #T_d8c70_row2_col3 {\n",
       "  background-color: #75c465;\n",
       "}\n",
       "#T_d8c70_row0_col4 {\n",
       "  background-color: #bde379;\n",
       "}\n",
       "#T_d8c70_row0_col5 {\n",
       "  background-color: #f99153;\n",
       "}\n",
       "#T_d8c70_row1_col0, #T_d8c70_row1_col3 {\n",
       "  background-color: #f4fab0;\n",
       "}\n",
       "#T_d8c70_row1_col1, #T_d8c70_row4_col0 {\n",
       "  background-color: #fdb768;\n",
       "}\n",
       "#T_d8c70_row1_col2, #T_d8c70_row2_col4, #T_d8c70_row3_col0 {\n",
       "  background-color: #fff6b0;\n",
       "}\n",
       "#T_d8c70_row1_col5 {\n",
       "  background-color: #e14430;\n",
       "}\n",
       "#T_d8c70_row2_col0, #T_d8c70_row4_col2, #T_d8c70_row4_col3 {\n",
       "  background-color: #e8f59f;\n",
       "}\n",
       "#T_d8c70_row2_col1 {\n",
       "  background-color: #feffbe;\n",
       "}\n",
       "#T_d8c70_row2_col2, #T_d8c70_row4_col4, #T_d8c70_row5_col2 {\n",
       "  background-color: #feec9f;\n",
       "}\n",
       "#T_d8c70_row3_col1, #T_d8c70_row3_col5 {\n",
       "  background-color: #fee28f;\n",
       "}\n",
       "#T_d8c70_row3_col2 {\n",
       "  background-color: #0a7b41;\n",
       "}\n",
       "#T_d8c70_row3_col3 {\n",
       "  background-color: #fed481;\n",
       "}\n",
       "#T_d8c70_row3_col4 {\n",
       "  background-color: #a90426;\n",
       "}\n",
       "#T_d8c70_row5_col0 {\n",
       "  background-color: #addc6f;\n",
       "}\n",
       "#T_d8c70_row5_col3, #T_d8c70_row5_col4 {\n",
       "  background-color: #9dd569;\n",
       "}\n",
       "</style>\n",
       "<table id=\"T_d8c70\">\n",
       "  <thead>\n",
       "    <tr>\n",
       "      <th class=\"blank level0\" >&nbsp;</th>\n",
       "      <th id=\"T_d8c70_level0_col0\" class=\"col_heading level0 col0\" >1</th>\n",
       "      <th id=\"T_d8c70_level0_col1\" class=\"col_heading level0 col1\" >2</th>\n",
       "      <th id=\"T_d8c70_level0_col2\" class=\"col_heading level0 col2\" >3</th>\n",
       "      <th id=\"T_d8c70_level0_col3\" class=\"col_heading level0 col3\" >4</th>\n",
       "      <th id=\"T_d8c70_level0_col4\" class=\"col_heading level0 col4\" >5</th>\n",
       "      <th id=\"T_d8c70_level0_col5\" class=\"col_heading level0 col5\" >6</th>\n",
       "    </tr>\n",
       "  </thead>\n",
       "  <tbody>\n",
       "    <tr>\n",
       "      <th id=\"T_d8c70_level0_row0\" class=\"row_heading level0 row0\" >1</th>\n",
       "      <td id=\"T_d8c70_row0_col0\" class=\"data row0 col0\" >0.031000</td>\n",
       "      <td id=\"T_d8c70_row0_col1\" class=\"data row0 col1\" >0.021000</td>\n",
       "      <td id=\"T_d8c70_row0_col2\" class=\"data row0 col2\" >0.023000</td>\n",
       "      <td id=\"T_d8c70_row0_col3\" class=\"data row0 col3\" >0.037000</td>\n",
       "      <td id=\"T_d8c70_row0_col4\" class=\"data row0 col4\" >0.033000</td>\n",
       "      <td id=\"T_d8c70_row0_col5\" class=\"data row0 col5\" >0.020000</td>\n",
       "    </tr>\n",
       "    <tr>\n",
       "      <th id=\"T_d8c70_level0_row1\" class=\"row_heading level0 row1\" >2</th>\n",
       "      <td id=\"T_d8c70_row1_col0\" class=\"data row1 col0\" >0.029000</td>\n",
       "      <td id=\"T_d8c70_row1_col1\" class=\"data row1 col1\" >0.022000</td>\n",
       "      <td id=\"T_d8c70_row1_col2\" class=\"data row1 col2\" >0.027000</td>\n",
       "      <td id=\"T_d8c70_row1_col3\" class=\"data row1 col3\" >0.029000</td>\n",
       "      <td id=\"T_d8c70_row1_col4\" class=\"data row1 col4\" >0.023000</td>\n",
       "      <td id=\"T_d8c70_row1_col5\" class=\"data row1 col5\" >0.016000</td>\n",
       "    </tr>\n",
       "    <tr>\n",
       "      <th id=\"T_d8c70_level0_row2\" class=\"row_heading level0 row2\" >3</th>\n",
       "      <td id=\"T_d8c70_row2_col0\" class=\"data row2 col0\" >0.030000</td>\n",
       "      <td id=\"T_d8c70_row2_col1\" class=\"data row2 col1\" >0.028000</td>\n",
       "      <td id=\"T_d8c70_row2_col2\" class=\"data row2 col2\" >0.026000</td>\n",
       "      <td id=\"T_d8c70_row2_col3\" class=\"data row2 col3\" >0.037000</td>\n",
       "      <td id=\"T_d8c70_row2_col4\" class=\"data row2 col4\" >0.027000</td>\n",
       "      <td id=\"T_d8c70_row2_col5\" class=\"data row2 col5\" >0.023000</td>\n",
       "    </tr>\n",
       "    <tr>\n",
       "      <th id=\"T_d8c70_level0_row3\" class=\"row_heading level0 row3\" >4</th>\n",
       "      <td id=\"T_d8c70_row3_col0\" class=\"data row3 col0\" >0.027000</td>\n",
       "      <td id=\"T_d8c70_row3_col1\" class=\"data row3 col1\" >0.025000</td>\n",
       "      <td id=\"T_d8c70_row3_col2\" class=\"data row3 col2\" >0.043000</td>\n",
       "      <td id=\"T_d8c70_row3_col3\" class=\"data row3 col3\" >0.024000</td>\n",
       "      <td id=\"T_d8c70_row3_col4\" class=\"data row3 col4\" >0.012000</td>\n",
       "      <td id=\"T_d8c70_row3_col5\" class=\"data row3 col5\" >0.025000</td>\n",
       "    </tr>\n",
       "    <tr>\n",
       "      <th id=\"T_d8c70_level0_row4\" class=\"row_heading level0 row4\" >5</th>\n",
       "      <td id=\"T_d8c70_row4_col0\" class=\"data row4 col0\" >0.022000</td>\n",
       "      <td id=\"T_d8c70_row4_col1\" class=\"data row4 col1\" >0.031000</td>\n",
       "      <td id=\"T_d8c70_row4_col2\" class=\"data row4 col2\" >0.030000</td>\n",
       "      <td id=\"T_d8c70_row4_col3\" class=\"data row4 col3\" >0.030000</td>\n",
       "      <td id=\"T_d8c70_row4_col4\" class=\"data row4 col4\" >0.026000</td>\n",
       "      <td id=\"T_d8c70_row4_col5\" class=\"data row4 col5\" >0.031000</td>\n",
       "    </tr>\n",
       "    <tr>\n",
       "      <th id=\"T_d8c70_level0_row5\" class=\"row_heading level0 row5\" >6</th>\n",
       "      <td id=\"T_d8c70_row5_col0\" class=\"data row5 col0\" >0.034000</td>\n",
       "      <td id=\"T_d8c70_row5_col1\" class=\"data row5 col1\" >0.031000</td>\n",
       "      <td id=\"T_d8c70_row5_col2\" class=\"data row5 col2\" >0.026000</td>\n",
       "      <td id=\"T_d8c70_row5_col3\" class=\"data row5 col3\" >0.035000</td>\n",
       "      <td id=\"T_d8c70_row5_col4\" class=\"data row5 col4\" >0.035000</td>\n",
       "      <td id=\"T_d8c70_row5_col5\" class=\"data row5 col5\" >0.031000</td>\n",
       "    </tr>\n",
       "  </tbody>\n",
       "</table>\n"
      ],
      "text/plain": [
       "<pandas.io.formats.style.Styler at 0x7f4aba6d97b0>"
      ]
     },
     "execution_count": 272,
     "metadata": {},
     "output_type": "execute_result"
    }
   ],
   "source": [
    "df = pd.DataFrame(roll_table_normed, columns=range(1,7), index=pd.Index(range(1,7)))\n",
    "\n",
    "# === This snippet to generate a colored table displaying the results was addapted from\n",
    "# https://stackoverflow.com/questions/44971502/what-code-for-a-table-with-colors-instead-of-values\n",
    "\n",
    "from matplotlib import colors\n",
    "def background_gradient(s, m, M, cmap='PuBu', low=0, high=0):\n",
    "    rng = M - m\n",
    "    norm = colors.Normalize(m - (rng * low),\n",
    "                            M + (rng * high))\n",
    "    normed = norm(s.values)\n",
    "    c = [colors.rgb2hex(x) for x in plt.cm.get_cmap(cmap)(normed)]\n",
    "    return [f'background-color: {color}' for color in c]\n",
    "\n",
    "df.style.apply(background_gradient,\n",
    "               cmap='RdYlGn',\n",
    "               m=df.min().min(),\n",
    "               M=df.max().max(),\n",
    "               low=df.min().min(),\n",
    "               high=df.max().max())\n"
   ]
  },
  {
   "cell_type": "code",
   "execution_count": 264,
   "metadata": {},
   "outputs": [
    {
     "data": {
      "image/png": "[encoded data removed]",
      "text/plain": [
       "<Figure size 432x288 with 1 Axes>"
      ]
     },
     "metadata": {
      "needs_background": "light"
     },
     "output_type": "display_data"
    }
   ],
   "source": [
    "count, idx = np.histogram(roll_df['sum'], bins=range(2,SIDES*2+2))\n",
    "idx = idx[:-1] # histogram will always return 1 more index representing bins with greater value, we don't need it\n",
    "count = count.astype(np.int64) / sum(count)\n",
    "\n",
    "plt.bar(idx, count)\n",
    "plt.ylim(0,max(count)+0.05)\n",
    "plt.xticks(range(1,SIDES*2+1))\n",
    "plt.title(f\"DICE {axis}\")\n",
    "plt.ylabel('Occurrence (%)')\n",
    "plt.xlabel('Sum of all dice rolls')\n",
    "plt.show()"
   ]
  }
 ],
 "metadata": {
  "kernelspec": {
   "display_name": "Python 3.10.4 64-bit ('masters': conda)",
   "language": "python",
   "name": "python3"
  },
  "language_info": {
   "codemirror_mode": {
    "name": "ipython",
    "version": 3
   },
   "file_extension": ".py",
   "mimetype": "text/x-python",
   "name": "python",
   "nbconvert_exporter": "python",
   "pygments_lexer": "ipython3",
   "version": "3.10.4"
  },
  "orig_nbformat": 4,
  "vscode": {
   "interpreter": {
    "hash": "cceebfb4141302d7dfc1bbc535595815e35fccef5eb980b378fd9f5fdc56a8a2"
   }
  }
 },
 "nbformat": 4,
 "nbformat_minor": 2
}
